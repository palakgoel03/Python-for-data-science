{
 "cells": [
  {
   "cell_type": "code",
   "execution_count": 1,
   "id": "36a91f87",
   "metadata": {},
   "outputs": [],
   "source": [
    "fd=open('inventory.txt', 'w')\n",
    "fd.write(\"1,5 Star,5,100\\n2,Milk,20,20\\n3,Jam,40,50\\n4,Pen,5,100\\n5,Pot,35,120\")\n",
    "\n",
    "fd.close()"
   ]
  },
  {
   "cell_type": "code",
   "execution_count": 2,
   "id": "0708dd28",
   "metadata": {},
   "outputs": [],
   "source": [
    "fd=open('inventory.txt', 'r')\n",
    "products = fd.read().split('\\n')\n",
    "\n",
    "fd.close()\n"
   ]
  },
  {
   "cell_type": "code",
   "execution_count": 3,
   "id": "e51a182b",
   "metadata": {},
   "outputs": [
    {
     "name": "stdout",
     "output_type": "stream",
     "text": [
      "1,5 Star,5,100\n",
      "2,Milk,20,20\n",
      "3,Jam,40,50\n",
      "4,Pen,5,100\n",
      "5,Pot,35,120\n"
     ]
    }
   ],
   "source": [
    "for product in products:\n",
    "    print(product)"
   ]
  },
  {
   "cell_type": "code",
   "execution_count": 5,
   "id": "56a9e529",
   "metadata": {},
   "outputs": [
    {
     "name": "stdout",
     "output_type": "stream",
     "text": [
      "Enter the product ID:2\n",
      "Enter the product Quantity:4\n",
      "---------------------\n",
      "Name of the Product  :  Milk\n",
      "Price of the Product :  20\n",
      "Quantity of Product  :  4\n",
      "---------------------\n",
      "Billing Amount       :  80\n",
      "---------------------\n"
     ]
    }
   ],
   "source": [
    "User_Input_ID = input(\"Enter the product ID:\")\n",
    "User_Input_Quant = input(\"Enter the product Quantity:\")\n",
    "\n",
    "Updated_Prod_List=[]\n",
    "\n",
    "for product in products:\n",
    "    prod_details = product.split(\",\")\n",
    "    if (prod_details[0]==User_Input_ID):\n",
    "        print(\"---------------------\")\n",
    "        print(\"Name of the Product  : \", prod_details[1])\n",
    "        print(\"Price of the Product : \", prod_details[2])\n",
    "        print(\"Quantity of Product  : \", User_Input_Quant)\n",
    "        print(\"---------------------\")\n",
    "        print(\"Billing Amount       : \", int(User_Input_Quant)*int(prod_details[2]))\n",
    "        print(\"---------------------\")\n",
    "        prod_details[3]=str(int(prod_details[3])-int(User_Input_Quant))\n",
    "    \n",
    "    Updated_Prod_List.append(prod_details)\n",
    "    \n",
    "\n",
    "\n",
    "lst=[]  \n",
    "\n",
    "\n",
    "for i in Updated_Prod_List:\n",
    "    prod=i[0]+','+i[1]+','+i[2]+','+i[3]+'\\n'\n",
    "    lst.append(prod)\n",
    "lst[-1]=lst[-1][:-1]  #To remove \\n from the last produc details \n",
    "\n",
    "fd=open('inventory.txt', 'w')\n",
    "fd.writelines(lst)\n",
    "fd.close()    \n"
   ]
  },
  {
   "cell_type": "code",
   "execution_count": 73,
   "id": "286753de",
   "metadata": {},
   "outputs": [],
   "source": [
    "\n"
   ]
  },
  {
   "cell_type": "code",
   "execution_count": 4,
   "id": "f75f76a1",
   "metadata": {},
   "outputs": [
    {
     "name": "stdout",
     "output_type": "stream",
     "text": [
      "1\n",
      "2\n",
      "3\n",
      "4\n",
      "5\n"
     ]
    }
   ],
   "source": [
    "fd=open('inventory.txt', 'r');\n",
    "for i in fd:\n",
    "    print(i[0])\n",
    "\n"
   ]
  },
  {
   "cell_type": "code",
   "execution_count": 7,
   "id": "8005c0c7",
   "metadata": {},
   "outputs": [
    {
     "name": "stdout",
     "output_type": "stream",
     "text": [
      "Enter the product ID:3\n",
      "Enter the product Quantity:3\n",
      "1,5 Star,5,100\n"
     ]
    }
   ],
   "source": [
    "fd=open('inventory.txt', 'r')\n",
    "products = fd.read().split('\\n')\n",
    "\n",
    "fd.close()\n",
    "\n",
    "User_Input_ID = input(\"Enter the product ID:\")\n",
    "User_Input_Quant = input(\"Enter the product Quantity:\")\n",
    "\n",
    "Updated_Prod_List=[]\n",
    "\n",
    "for product in products:\n",
    "    prouct = product.split(\",\")\n",
    "    if (product[0]==1 or product[0]=='1'):\n",
    "        print(product)"
   ]
  },
  {
   "cell_type": "code",
   "execution_count": 13,
   "id": "046a6987",
   "metadata": {},
   "outputs": [],
   "source": [
    "fd=open('inventory.txt', 'w')\n",
    "fd.write(\"1,5 Star,5,100\\n2,Milk,20,20\\n3,Jam,40,50\\n4,Pen,5,100\\n5,Pot,35,120\")\n",
    "\n",
    "fd.close()"
   ]
  },
  {
   "cell_type": "code",
   "execution_count": 15,
   "id": "b34a088f",
   "metadata": {},
   "outputs": [
    {
     "name": "stdout",
     "output_type": "stream",
     "text": [
      "['1,5 Star,5,100', '2,Milk,20,20', '3,Jam,40,50', '4,Pen,5,100', '5,Pot,35,120']\n",
      "\n",
      "5 Star\n",
      "Milk\n",
      "Jam\n",
      "Pen\n",
      "Pot\n"
     ]
    }
   ],
   "source": [
    "fd=open('inventory.txt', 'r')\n",
    "products = fd.read().split('\\n')\n",
    "print(products)\n",
    "print()\n",
    "for product in products:\n",
    "    product = product.split(\",\")\n",
    "    print(product[1])\n",
    "fd.close()"
   ]
  },
  {
   "cell_type": "code",
   "execution_count": 16,
   "id": "7cdca415",
   "metadata": {},
   "outputs": [
    {
     "name": "stdout",
     "output_type": "stream",
     "text": [
      "1,5 Star,5,100\n",
      "2,Milk,20,20\n",
      "3,Jam,40,50\n",
      "4,Pen,5,100\n",
      "5,Pot,35,120\n"
     ]
    }
   ],
   "source": [
    "fd=open('inventory.txt', 'r')\n",
    "print(fd.read())"
   ]
  },
  {
   "cell_type": "code",
   "execution_count": null,
   "id": "b59d4cce",
   "metadata": {},
   "outputs": [],
   "source": []
  }
 ],
 "metadata": {
  "kernelspec": {
   "display_name": "Python 3",
   "language": "python",
   "name": "python3"
  },
  "language_info": {
   "codemirror_mode": {
    "name": "ipython",
    "version": 3
   },
   "file_extension": ".py",
   "mimetype": "text/x-python",
   "name": "python",
   "nbconvert_exporter": "python",
   "pygments_lexer": "ipython3",
   "version": "3.8.8"
  }
 },
 "nbformat": 4,
 "nbformat_minor": 5
}
